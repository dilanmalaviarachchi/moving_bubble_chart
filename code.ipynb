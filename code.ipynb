{
 "cells": [
  {
   "cell_type": "code",
   "execution_count": 1,
   "metadata": {},
   "outputs": [
    {
     "name": "stdout",
     "output_type": "stream",
     "text": [
      "Collecting d3blocks\n",
      "  Downloading d3blocks-1.4.11-py3-none-any.whl.metadata (8.9 kB)\n",
      "Requirement already satisfied: numpy in c:\\users\\dilan\\appdata\\local\\programs\\python\\python312\\lib\\site-packages (from d3blocks) (1.26.4)\n",
      "Collecting colourmap>=1.1.10 (from d3blocks)\n",
      "  Downloading colourmap-1.1.17-py3-none-any.whl.metadata (4.1 kB)\n",
      "Collecting datazets>=0.1.7 (from d3blocks)\n",
      "  Downloading datazets-0.1.9-py3-none-any.whl.metadata (4.7 kB)\n",
      "Collecting d3graph>=2.4.16 (from d3blocks)\n",
      "  Downloading d3graph-2.5.0-py3-none-any.whl.metadata (6.5 kB)\n",
      "Collecting elasticgraph>=0.1.2 (from d3blocks)\n",
      "  Downloading elasticgraph-0.2.0-py3-none-any.whl.metadata (2.1 kB)\n",
      "Collecting ismember>=1.0.1 (from d3blocks)\n",
      "  Downloading ismember-1.0.5-py3-none-any.whl.metadata (3.4 kB)\n",
      "Requirement already satisfied: pandas in c:\\users\\dilan\\appdata\\local\\programs\\python\\python312\\lib\\site-packages (from d3blocks) (2.2.2)\n",
      "Requirement already satisfied: tqdm in c:\\users\\dilan\\appdata\\local\\programs\\python\\python312\\lib\\site-packages (from d3blocks) (4.66.5)\n",
      "Requirement already satisfied: requests in c:\\users\\dilan\\appdata\\local\\programs\\python\\python312\\lib\\site-packages (from d3blocks) (2.32.3)\n",
      "Requirement already satisfied: scikit-learn in c:\\users\\dilan\\appdata\\local\\programs\\python\\python312\\lib\\site-packages (from d3blocks) (1.5.1)\n",
      "Requirement already satisfied: jinja2 in c:\\users\\dilan\\appdata\\local\\programs\\python\\python312\\lib\\site-packages (from d3blocks) (3.1.4)\n",
      "Requirement already satisfied: matplotlib in c:\\users\\dilan\\appdata\\local\\programs\\python\\python312\\lib\\site-packages (from colourmap>=1.1.10->d3blocks) (3.9.2)\n",
      "Requirement already satisfied: networkx>2 in c:\\users\\dilan\\appdata\\local\\programs\\python\\python312\\lib\\site-packages (from d3graph>=2.4.16->d3blocks) (3.3)\n",
      "Requirement already satisfied: packaging in c:\\users\\dilan\\appdata\\roaming\\python\\python312\\site-packages (from d3graph>=2.4.16->d3blocks) (24.1)\n",
      "Collecting markupsafe==2.0.1 (from d3graph>=2.4.16->d3blocks)\n",
      "  Downloading MarkupSafe-2.0.1.tar.gz (18 kB)\n",
      "  Installing build dependencies: started\n",
      "  Installing build dependencies: finished with status 'done'\n",
      "  Getting requirements to build wheel: started\n",
      "  Getting requirements to build wheel: finished with status 'done'\n",
      "  Preparing metadata (pyproject.toml): started\n",
      "  Preparing metadata (pyproject.toml): finished with status 'done'\n",
      "Collecting python-louvain (from d3graph>=2.4.16->d3blocks)\n",
      "  Downloading python-louvain-0.16.tar.gz (204 kB)\n",
      "  Installing build dependencies: started\n",
      "  Installing build dependencies: finished with status 'done'\n",
      "  Getting requirements to build wheel: started\n",
      "  Getting requirements to build wheel: finished with status 'done'\n",
      "  Preparing metadata (pyproject.toml): started\n",
      "  Preparing metadata (pyproject.toml): finished with status 'done'\n",
      "Requirement already satisfied: python-dateutil>=2.8.2 in c:\\users\\dilan\\appdata\\roaming\\python\\python312\\site-packages (from pandas->d3blocks) (2.9.0.post0)\n",
      "Requirement already satisfied: pytz>=2020.1 in c:\\users\\dilan\\appdata\\local\\programs\\python\\python312\\lib\\site-packages (from pandas->d3blocks) (2024.1)\n",
      "Requirement already satisfied: tzdata>=2022.7 in c:\\users\\dilan\\appdata\\local\\programs\\python\\python312\\lib\\site-packages (from pandas->d3blocks) (2024.1)\n",
      "Requirement already satisfied: charset-normalizer<4,>=2 in c:\\users\\dilan\\appdata\\local\\programs\\python\\python312\\lib\\site-packages (from requests->d3blocks) (3.3.2)\n",
      "Requirement already satisfied: idna<4,>=2.5 in c:\\users\\dilan\\appdata\\local\\programs\\python\\python312\\lib\\site-packages (from requests->d3blocks) (3.7)\n",
      "Requirement already satisfied: urllib3<3,>=1.21.1 in c:\\users\\dilan\\appdata\\local\\programs\\python\\python312\\lib\\site-packages (from requests->d3blocks) (2.2.2)\n",
      "Requirement already satisfied: certifi>=2017.4.17 in c:\\users\\dilan\\appdata\\local\\programs\\python\\python312\\lib\\site-packages (from requests->d3blocks) (2024.7.4)\n",
      "Requirement already satisfied: scipy>=1.6.0 in c:\\users\\dilan\\appdata\\local\\programs\\python\\python312\\lib\\site-packages (from scikit-learn->d3blocks) (1.14.1)\n",
      "Requirement already satisfied: joblib>=1.2.0 in c:\\users\\dilan\\appdata\\local\\programs\\python\\python312\\lib\\site-packages (from scikit-learn->d3blocks) (1.4.2)\n",
      "Requirement already satisfied: threadpoolctl>=3.1.0 in c:\\users\\dilan\\appdata\\local\\programs\\python\\python312\\lib\\site-packages (from scikit-learn->d3blocks) (3.5.0)\n",
      "Requirement already satisfied: colorama in c:\\users\\dilan\\appdata\\roaming\\python\\python312\\site-packages (from tqdm->d3blocks) (0.4.6)\n",
      "Requirement already satisfied: six>=1.5 in c:\\users\\dilan\\appdata\\roaming\\python\\python312\\site-packages (from python-dateutil>=2.8.2->pandas->d3blocks) (1.16.0)\n",
      "Requirement already satisfied: contourpy>=1.0.1 in c:\\users\\dilan\\appdata\\local\\programs\\python\\python312\\lib\\site-packages (from matplotlib->colourmap>=1.1.10->d3blocks) (1.2.1)\n",
      "Requirement already satisfied: cycler>=0.10 in c:\\users\\dilan\\appdata\\local\\programs\\python\\python312\\lib\\site-packages (from matplotlib->colourmap>=1.1.10->d3blocks) (0.12.1)\n",
      "Requirement already satisfied: fonttools>=4.22.0 in c:\\users\\dilan\\appdata\\local\\programs\\python\\python312\\lib\\site-packages (from matplotlib->colourmap>=1.1.10->d3blocks) (4.53.1)\n",
      "Requirement already satisfied: kiwisolver>=1.3.1 in c:\\users\\dilan\\appdata\\local\\programs\\python\\python312\\lib\\site-packages (from matplotlib->colourmap>=1.1.10->d3blocks) (1.4.5)\n",
      "Requirement already satisfied: pillow>=8 in c:\\users\\dilan\\appdata\\local\\programs\\python\\python312\\lib\\site-packages (from matplotlib->colourmap>=1.1.10->d3blocks) (10.4.0)\n",
      "Requirement already satisfied: pyparsing>=2.3.1 in c:\\users\\dilan\\appdata\\local\\programs\\python\\python312\\lib\\site-packages (from matplotlib->colourmap>=1.1.10->d3blocks) (3.1.2)\n",
      "Downloading d3blocks-1.4.11-py3-none-any.whl (1.4 MB)\n",
      "   ---------------------------------------- 0.0/1.4 MB ? eta -:--:--\n",
      "   -------------- ------------------------- 0.5/1.4 MB 4.2 MB/s eta 0:00:01\n",
      "   ------------------------------------ --- 1.3/1.4 MB 4.0 MB/s eta 0:00:01\n",
      "   ---------------------------------------- 1.4/1.4 MB 3.6 MB/s eta 0:00:00\n",
      "Downloading colourmap-1.1.17-py3-none-any.whl (10 kB)\n",
      "Downloading d3graph-2.5.0-py3-none-any.whl (126 kB)\n",
      "Downloading datazets-0.1.9-py3-none-any.whl (51 kB)\n",
      "Downloading elasticgraph-0.2.0-py3-none-any.whl (82 kB)\n",
      "Downloading ismember-1.0.5-py3-none-any.whl (7.7 kB)\n",
      "Building wheels for collected packages: markupsafe, python-louvain\n",
      "  Building wheel for markupsafe (pyproject.toml): started\n",
      "  Building wheel for markupsafe (pyproject.toml): finished with status 'done'\n",
      "  Created wheel for markupsafe: filename=MarkupSafe-2.0.1-py3-none-any.whl size=9766 sha256=226cd734a186fa1e3752ea95dbe3e83f4deeee47fd0a0c2423d82b6bf4e1b6cd\n",
      "  Stored in directory: c:\\users\\dilan\\appdata\\local\\pip\\cache\\wheels\\4f\\d0\\53\\2b4a97f61dfc68c6cc6248bfb770e2f6ff952e89a5c2696aae\n",
      "  Building wheel for python-louvain (pyproject.toml): started\n",
      "  Building wheel for python-louvain (pyproject.toml): finished with status 'done'\n",
      "  Created wheel for python-louvain: filename=python_louvain-0.16-py3-none-any.whl size=9403 sha256=7f498b11b070331d5319cf20f4f9080b5826291fa212529c18d56bf35b65572a\n",
      "  Stored in directory: c:\\users\\dilan\\appdata\\local\\pip\\cache\\wheels\\40\\f1\\e3\\485b698c520fa0baee1d07897abc7b8d6479b7d199ce96f4af\n",
      "Successfully built markupsafe python-louvain\n",
      "Installing collected packages: python-louvain, markupsafe, ismember, datazets, colourmap, d3graph, elasticgraph, d3blocks\n",
      "  Attempting uninstall: markupsafe\n",
      "    Found existing installation: MarkupSafe 2.1.5\n",
      "    Uninstalling MarkupSafe-2.1.5:\n",
      "      Successfully uninstalled MarkupSafe-2.1.5\n",
      "Successfully installed colourmap-1.1.17 d3blocks-1.4.11 d3graph-2.5.0 datazets-0.1.9 elasticgraph-0.2.0 ismember-1.0.5 markupsafe-2.0.1 python-louvain-0.16\n",
      "Note: you may need to restart the kernel to use updated packages.\n"
     ]
    }
   ],
   "source": [
    "%pip install d3blocks"
   ]
  },
  {
   "cell_type": "code",
   "execution_count": 3,
   "metadata": {},
   "outputs": [],
   "source": [
    "import pandas as pd \n",
    "pd.set_option('display.max_colwidth', None )\n",
    "pd.set_option('display.max_rows', None)\n"
   ]
  },
  {
   "cell_type": "code",
   "execution_count": 1,
   "metadata": {},
   "outputs": [
    {
     "name": "stderr",
     "output_type": "stream",
     "text": [
      "[d3blocks] >INFO> Cleaning edge_properties and config parameters..\n",
      "[d3blocks] >INFO> Cleaning edge_properties and config parameters..\n",
      "[d3blocks] >INFO> Initializing [Movingbubbles]\n",
      "[d3blocks] >INFO> filepath is set to [C:\\Users\\Dilan\\AppData\\Local\\Temp\\d3blocks\\movingbubbles.html]\n",
      "[d3blocks] >INFO> Convert to DataFrame.\n",
      "[d3blocks] >INFO> Node properties are set.\n",
      "[d3blocks] >INFO> Standardizing input dataframe using method: [samplewise].\n",
      "[d3blocks] >INFO> Standardize method: [samplewise]\n",
      "100%|██████████| 301/301 [00:00<00:00, 779.62it/s]\n",
      "[d3blocks] >INFO> Set all nodes to size: 5\n",
      "[clustimage] >WARNING> Colormap [Set1] can not create [301] unique colors! Available unique colors: [9].\n",
      "[d3blocks] >WARNING> Colormap [Set1] can not create [301] unique colors! Available unique colors: [9].\n",
      "[d3blocks] >INFO> Edge properties are set.\n",
      "[d3blocks] >INFO> File already exists and will be overwritten: [C:\\Users\\Dilan\\AppData\\Local\\Temp\\d3blocks\\movingbubbles.html]\n",
      "[d3blocks] >INFO> Open browser: C:\\Users\\Dilan\\AppData\\Local\\Temp\\d3blocks\\movingbubbles.html\n"
     ]
    }
   ],
   "source": [
    "from d3blocks import D3Blocks\n",
    "\n",
    "d3 = D3Blocks()\n",
    "data = d3.import_example('random_time', n=10000, c=300, date_start='1-1-2000 00:10:05', date_stop=\"1-1-2000 23:59:59\")\n",
    "d3.movingbubbles(data, speed={'slow': 1000, 'medium': 200, 'fast': 10}, filepath=\"movingbubbles.html\")\n",
    "\n"
   ]
  },
  {
   "cell_type": "code",
   "execution_count": null,
   "metadata": {},
   "outputs": [],
   "source": [
    "\n"
   ]
  }
 ],
 "metadata": {
  "kernelspec": {
   "display_name": "Python 3",
   "language": "python",
   "name": "python3"
  },
  "language_info": {
   "codemirror_mode": {
    "name": "ipython",
    "version": 3
   },
   "file_extension": ".py",
   "mimetype": "text/x-python",
   "name": "python",
   "nbconvert_exporter": "python",
   "pygments_lexer": "ipython3",
   "version": "3.12.4"
  }
 },
 "nbformat": 4,
 "nbformat_minor": 2
}
